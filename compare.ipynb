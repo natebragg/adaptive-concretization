{
 "cells": [
  {
   "cell_type": "code",
   "execution_count": null,
   "metadata": {},
   "outputs": [],
   "source": [
    "import os\n",
    "pwd = os.path.abspath('')\n",
    "SKETCH_169 = os.path.join(pwd, '..', '..', '..', 'sketch3', 'sketch-1.6.9', 'sketch-frontend', 'runtime')\n",
    "SKETCH_175 = os.path.join(pwd, '..', '..', 'sketch-frontend')\n",
    "SKETCH_169_PATH = os.path.join(SKETCH_169, '..')\n",
    "SKETCH_175_PATH = os.path.join(SKETCH_175, 'target', 'sketch-1.7.5-noarch-launchers')\n",
    "SKETCH_VERSION = '1.7.5'\n",
    "SKETCH_HOME = SKETCH_175\n",
    "SKETCH_PATH = SKETCH_175_PATH\n",
    "os.environ['JAVA_HOME'] = JAVA_HOME = '/usr/lib/jvm/java-1.8.0-openjdk-amd64'\n",
    "os.environ['PATH'] = JAVA_HOME + '/bin' + os.pathsep + os.environ['PATH']"
   ]
  },
  {
   "cell_type": "code",
   "execution_count": null,
   "metadata": {},
   "outputs": [],
   "source": [
    "import sys; sys.path.insert(0,'./')\n",
    "from sketch import run_sketch\n",
    "from joblib import Parallel, delayed\n",
    "import pandas as pd\n",
    "import numpy as np\n",
    "import datetime\n",
    "import json\n",
    "import math\n",
    "import multiprocessing"
   ]
  },
  {
   "cell_type": "code",
   "execution_count": null,
   "metadata": {},
   "outputs": [],
   "source": [
    "BENCHMARK = \"benchmark\"\n",
    "DATA = \"data\"\n",
    "\n",
    "g_opt = type('', (object,), {\n",
    "    \"config\": \"config.full.json\",\n",
    "    \"benchmarks\": os.listdir(BENCHMARK),\n",
    "    \"strategies\": [\"WILCOXON\"], # \"SINGLE\", \"NOT_SET\", \"WILCOXON\"\n",
    "    \"cores\": [],\n",
    "    \"degrees\": [],\n",
    "    \"repeat\": 6, # AC paper used 13 \n",
    "    \"timeout\": 30,\n",
    "    \"ntimes\": None,\n",
    "    \"register\": False,\n",
    "    \"vanilla\": False,\n",
    "})\n",
    "\n",
    "all_benchmark_short_names = [\n",
    "    (\"p_button\", \"button_demo\"),\n",
    "    (\"p_color\", \"colorchooser_demo\"),\n",
    "    (\"p_menu\", \"menu_demo\"),\n",
    "    (\"l_prepend\", \"list_prepend\"),\n",
    "    (\"l_min\", \"list_min\"),\n",
    "    (\"a_mom_1\", \"shoaib_1\"),\n",
    "    (\"a_mom_2\", \"shoaib_2\"),\n",
    "    (\"ar_s_4\", \"sygus_ar_s_4\"),\n",
    "    (\"ar_s_5\", \"sygus_ar_s_5\"),\n",
    "    (\"ar_s_6\", \"sygus_ar_s_6\"),\n",
    "    (\"ar_s_7\", \"sygus_ar_s_7\"),\n",
    "    (\"ar_sum\", \"sygus_ar_sum\"),\n",
    "    (\"hd_13_d5\", \"sygus_hd_13_d5\"),\n",
    "    (\"hd_14_d1\", \"sygus_hd_14_d1\"),\n",
    "    (\"hd_14_d5\", \"sygus_hd_14_d5\"),\n",
    "    (\"hd_15_d5\", \"sygus_hd_15_d5\"),\n",
    "    (\"s_cg\", \"cg\"),\n",
    "    (\"s_log2\", \"log2\"),\n",
    "    (\"s_logcnt\", \"logcount\"),\n",
    "    (\"s_rev\", \"reverse\"),\n",
    "    (\"deriv2\", \"deriv2\"),\n",
    "    (\"deriv3\", \"deriv3\"),\n",
    "    (\"deriv4\", \"deriv4\"),\n",
    "    (\"deriv5\", \"deriv5\"),\n",
    "    (\"q_noti\", \"qbs_noti\"),\n",
    "    (\"q_serv\", \"qbs_serv\")\n",
    "]"
   ]
  },
  {
   "cell_type": "code",
   "execution_count": null,
   "metadata": {},
   "outputs": [],
   "source": [
    "def real_time(e):\n",
    "    return (e['after'] - e['before']).total_seconds()"
   ]
  },
  {
   "cell_type": "code",
   "execution_count": null,
   "metadata": {},
   "outputs": [],
   "source": [
    "def mean_siqr(vs):\n",
    "    return [0.0, 0.0] if len(vs) == 0 else [np.mean(vs), np.subtract(*np.percentile(vs, [75, 25])) / 2]\n",
    "\n",
    "def time_table(rs, cols):\n",
    "    def realonly(c):\n",
    "        return c in [\"V\", \"1\"]\n",
    "    def subcols(c, b):\n",
    "        es = list(filter(lambda e: e['successful'], rs[c][b]))\n",
    "        if not es:\n",
    "            return [np.inf] * (2 if realonly(c) else 4)\n",
    "        return mean_siqr(list(map(real_time, es))) + ([] if realonly(c) else mean_siqr(list(map(lambda e: e['cpu_time'], es))))\n",
    "    def subhead(c):\n",
    "        return [\"real\", \"siqr$_r$\"] + ([] if realonly(c) else [\"cpu\", \"siqr$_c$\"])\n",
    "    index, benchmarks = zip(*filter(lambda b: b[1] in config.keys(), all_benchmark_short_names))\n",
    "    times = [[time for c in cols for time in subcols(c, b)] for b in benchmarks]\n",
    "    all_cols = [ix for c in cols for ix in\n",
    "                ([('', 'Sketch Time (s)',   t) for t in subhead(c)] if c == 'V' else\n",
    "                 [('# Cores (Time (s))', c, t) for t in subhead(c)])]\n",
    "    real_cols = pd.IndexSlice[:, [ix for ix in all_cols if ix[2] == 'real']]\n",
    "    siqr_cols = pd.IndexSlice[:, [ix for ix in all_cols if ix[2].startswith('siqr')]]\n",
    "    columns = pd.MultiIndex.from_tuples(all_cols)\n",
    "    return pd.DataFrame(times, index=index, columns=columns).style.apply(\n",
    "        lambda s: ['font-weight: bold; background-color: DarkSeaGreen'\n",
    "                   if v else '' for v in s == s.min()],\n",
    "        axis=1,\n",
    "        subset=real_cols\n",
    "    ).apply(\n",
    "        lambda s: ['background-color: Maroon'\n",
    "                   if v else '' for v in s == s.max()],\n",
    "        axis=1,\n",
    "        subset=real_cols\n",
    "    ).where(\n",
    "        lambda _: True,\n",
    "        'border-left: 1px solid',\n",
    "        subset=real_cols\n",
    "    ).where(\n",
    "        lambda _: True,\n",
    "        'font-size: 66%',\n",
    "        subset=siqr_cols\n",
    "    ).format(\n",
    "        lambda t: '∞' if np.isinf(t) else '%.1f' % t\n",
    "    )\n",
    "\n",
    "def speedup_table(rs, cols):\n",
    "    def real_median(es):\n",
    "        return np.median(list(map(real_time, es)))\n",
    "    index, benchmarks = zip(*filter(lambda b: b[1] in config.keys(), all_benchmark_short_names))\n",
    "    data = [[real_median(rs['V'][b])] +\n",
    "            [real_median(rs[c][b])/real_median(rs['V'][b]) for c in cols]\n",
    "            for b in benchmarks]\n",
    "    van_col = 'Sketch Time (s)'\n",
    "    ratio_cols = ['Sketch Baseline'] + [c + ' Cores/Sketch' for c in cols if c != 'V']\n",
    "    columns = [van_col] + ratio_cols\n",
    "    return pd.DataFrame(data, index=index, columns=columns).style.apply(\n",
    "        lambda s: ['font-weight: bold; background-color: PaleGreen'\n",
    "                   if v else '' for v in s == s.min()],\n",
    "        axis=1,\n",
    "        subset=ratio_cols\n",
    "    ).apply(\n",
    "        lambda s: ['background-color: PaleVioletRed'\n",
    "                   if v else '' for v in s == s.max()],\n",
    "        axis=1,\n",
    "        subset=ratio_cols\n",
    "    ).format(\n",
    "        lambda t: '%.1f' % t\n",
    "    )"
   ]
  },
  {
   "cell_type": "code",
   "execution_count": null,
   "metadata": {},
   "outputs": [],
   "source": [
    "def parallelize(iters, cores_per_iter, runner):\n",
    "    pool_size = max(1, min(iters, int(multiprocessing.cpu_count()/cores_per_iter)))\n",
    "    def go(*args, **kwargs):\n",
    "        return Parallel(n_jobs=pool_size)(delayed(runner)(*args, iteration=i, **kwargs) for i in range(iters))\n",
    "    return go"
   ]
  },
  {
   "cell_type": "code",
   "execution_count": null,
   "metadata": {},
   "outputs": [],
   "source": [
    "def run_sketch_seed_wrapper(*args, iteration, seed=0, **kwargs):\n",
    "    return run_sketch(*args, iteration, seed=abs(seed+iteration), **kwargs)\n",
    "def run(iters, path, main):\n",
    "    now = int(datetime.datetime.now().strftime(\"%H%M%S\"))\n",
    "    seed = now * (10 ** int(math.log(iters, 10)))\n",
    "    return parallelize(iters, 1, run_sketch_seed_wrapper)(\n",
    "        SKETCH_VERSION, SKETCH_HOME, SKETCH_PATH, path, main,\n",
    "        mem=32*1024*1024*1024,\n",
    "        seed=seed,\n",
    "        timeout=g_opt.timeout,\n",
    "        noisy=True,\n",
    "    )"
   ]
  },
  {
   "cell_type": "code",
   "execution_count": null,
   "metadata": {},
   "outputs": [],
   "source": [
    "def fe_p_run(iters, path, main, strategy, core, degree=None):\n",
    "    return parallelize(iters, core, run_sketch)(\n",
    "        SKETCH_VERSION, SKETCH_HOME, SKETCH_PATH, path, main,\n",
    "        par=True, ac=True, degree=degree,\n",
    "        timeout=g_opt.timeout,\n",
    "        noisy=True,\n",
    "        ntimes=g_opt.ntimes, extra=[\n",
    "        \"--slv-strategy\", strategy,\n",
    "        \"--slv-p-cpus\", str(core),\n",
    "        \"--slv-p-trials\", str(32*32*3)]\n",
    "    )"
   ]
  },
  {
   "cell_type": "code",
   "execution_count": null,
   "metadata": {},
   "outputs": [],
   "source": [
    "def be_p_run(iters, path, main, b, degree, repeat):\n",
    "    # magic 0.83 number pulled from psketch.p_run\n",
    "    cores_per_psketch = max(1, int(multiprocessing.cpu_count() * 0.83))\n",
    "    return parallelize(iters, cores_per_psketch, run_sketch)(\n",
    "        SKETCH_VERSION, SKETCH_HOME, SKETCH_PATH, path, main,\n",
    "        mem=4*1024*1024*1024,\n",
    "        noisy=True,\n",
    "        ac=True, degree=degree, extra=[\n",
    "        # custom CEGIS wrapper that runs backend in parallel\n",
    "        \"--fe-cegis-path\", os.path.join(pwd, \"psketch.py\"),\n",
    "        \"--be:conc-benchmark={}\".format(b),\n",
    "        \"--be:conc-repeat={}\".format(repeat),\n",
    "        \"--be:conc-timeout={}\".format(g_opt.timeout),\n",
    "        \"--be:conc-register={}\".format(g_opt.register)]\n",
    "    )"
   ]
  },
  {
   "cell_type": "code",
   "execution_count": null,
   "metadata": {},
   "outputs": [],
   "source": [
    "def run_benchmark(b, benchmark):\n",
    "    path       = os.path.join(BENCHMARK, b)\n",
    "    main       = os.path.join(path, benchmark[\"main\"])\n",
    "    strategies = g_opt.strategies or benchmark[\"strategies\"]\n",
    "    cores      = g_opt.cores or benchmark[\"cores\"]\n",
    "    degrees    = g_opt.degrees or benchmark[\"degrees\"]\n",
    "    iters      = g_opt.repeat\n",
    "\n",
    "    if g_opt.vanilla: # run vanilla Sketch in parallel\n",
    "        return run(iters, path, main)\n",
    "\n",
    "    # use sketch-frontend's parallel running\n",
    "    def run_strat(strategy):\n",
    "        if strategy == \"SINGLE\": # parallel running via wrapper\n",
    "            return [be_p_run(iters, path, main, b, degree,\n",
    "                    max(g_opt.cores or [benchmark.get(\"single_repeat\", 1)]))\n",
    "                    for degree in degrees]\n",
    "        elif strategy == \"NOT_SET\": # fixed degree\n",
    "            return [fe_p_run(iters, path, main, strategy, core, degree)\n",
    "                    for core in cores\n",
    "                    for degree in degrees]\n",
    "        elif strategy == \"WILCOXON\": # adaptive concretization\n",
    "            return [fe_p_run(iters, path, main, strategy, core)\n",
    "                    for core in cores]\n",
    "\n",
    "    return [r for strategy in strategies\n",
    "              for rs in run_strat(strategy)\n",
    "              for r in rs]"
   ]
  },
  {
   "cell_type": "code",
   "execution_count": null,
   "metadata": {},
   "outputs": [],
   "source": [
    "config = json.load(open(g_opt.config))"
   ]
  },
  {
   "cell_type": "code",
   "execution_count": null,
   "metadata": {},
   "outputs": [],
   "source": [
    "SKETCH_VERSION = '1.7.5'\n",
    "SKETCH_HOME = SKETCH_175\n",
    "SKETCH_PATH = SKETCH_175_PATH\n",
    "results_175 = {}"
   ]
  },
  {
   "cell_type": "code",
   "execution_count": null,
   "metadata": {
    "scrolled": true
   },
   "outputs": [],
   "source": [
    "g_opt.vanilla = True\n",
    "g_opt.cores = [1]\n",
    "results_175[\"V\"] = {b: run_benchmark(b, config[b]) for b in config}"
   ]
  },
  {
   "cell_type": "code",
   "execution_count": null,
   "metadata": {},
   "outputs": [],
   "source": [
    "g_opt.vanilla = False\n",
    "g_opt.cores = [1]\n",
    "results_175[\"1\"] = {b: run_benchmark(b, config[b]) for b in config}"
   ]
  },
  {
   "cell_type": "code",
   "execution_count": null,
   "metadata": {},
   "outputs": [],
   "source": [
    "g_opt.vanilla = False\n",
    "g_opt.cores = [2]\n",
    "results_175[\"2\"] = {b: run_benchmark(b, config[b]) for b in config}"
   ]
  },
  {
   "cell_type": "code",
   "execution_count": null,
   "metadata": {},
   "outputs": [],
   "source": [
    "g_opt.vanilla = False\n",
    "g_opt.cores = [4]\n",
    "results_175[\"4\"] = {b: run_benchmark(b, config[b]) for b in config}"
   ]
  },
  {
   "cell_type": "code",
   "execution_count": null,
   "metadata": {},
   "outputs": [],
   "source": [
    "g_opt.vanilla = False\n",
    "g_opt.cores = [8]\n",
    "results_175[\"8\"] = {b: run_benchmark(b, config[b]) for b in config}"
   ]
  },
  {
   "cell_type": "code",
   "execution_count": null,
   "metadata": {},
   "outputs": [],
   "source": [
    "df_175_full = time_table(results_175, ('V', '1', '2', '4', '8'))\n",
    "df_175_full"
   ]
  },
  {
   "cell_type": "code",
   "execution_count": null,
   "metadata": {},
   "outputs": [],
   "source": [
    "df_175_speedup = speedup_table(results_175, ('V', '1', '2', '4', '8'))\n",
    "df_175_speedup"
   ]
  },
  {
   "cell_type": "code",
   "execution_count": null,
   "metadata": {},
   "outputs": [],
   "source": [
    "df_175_trunc = time_table(results_175, ('V', '1', '4'))\n",
    "df_175_trunc"
   ]
  },
  {
   "cell_type": "code",
   "execution_count": null,
   "metadata": {},
   "outputs": [],
   "source": [
    "SKETCH_VERSION = '1.6.9'\n",
    "SKETCH_HOME = SKETCH_169\n",
    "SKETCH_PATH = SKETCH_169_PATH\n",
    "results_169 = {}"
   ]
  },
  {
   "cell_type": "code",
   "execution_count": null,
   "metadata": {
    "scrolled": true
   },
   "outputs": [],
   "source": [
    "g_opt.vanilla = True\n",
    "g_opt.cores = [1]\n",
    "results_169[\"V\"] = {b: run_benchmark(b, config[b]) for b in config}"
   ]
  },
  {
   "cell_type": "code",
   "execution_count": null,
   "metadata": {
    "scrolled": true
   },
   "outputs": [],
   "source": [
    "g_opt.vanilla = False\n",
    "g_opt.cores = [1]\n",
    "results_169[\"1\"] = {b: run_benchmark(b, config[b]) for b in config}"
   ]
  },
  {
   "cell_type": "code",
   "execution_count": null,
   "metadata": {
    "scrolled": true
   },
   "outputs": [],
   "source": [
    "g_opt.vanilla = False\n",
    "g_opt.cores = [2]\n",
    "results_169[\"2\"] = {b: run_benchmark(b, config[b]) for b in config}"
   ]
  },
  {
   "cell_type": "code",
   "execution_count": null,
   "metadata": {
    "scrolled": true
   },
   "outputs": [],
   "source": [
    "g_opt.vanilla = False\n",
    "g_opt.cores = [4]\n",
    "results_169[\"4\"] = {b: run_benchmark(b, config[b]) for b in config}"
   ]
  },
  {
   "cell_type": "code",
   "execution_count": null,
   "metadata": {},
   "outputs": [],
   "source": [
    "g_opt.vanilla = False\n",
    "g_opt.cores = [8]\n",
    "results_169[\"8\"] = {b: run_benchmark(b, config[b]) for b in config}"
   ]
  },
  {
   "cell_type": "code",
   "execution_count": null,
   "metadata": {
    "scrolled": false
   },
   "outputs": [],
   "source": [
    "df_169_full = time_table(results_169, ('V', '1', '2', '4', '8'))\n",
    "df_169_full"
   ]
  },
  {
   "cell_type": "code",
   "execution_count": null,
   "metadata": {},
   "outputs": [],
   "source": [
    "df_169_speedup = speedup_table(results_169, ('V', '1', '2', '4', '8'))\n",
    "df_169_speedup"
   ]
  },
  {
   "cell_type": "code",
   "execution_count": null,
   "metadata": {},
   "outputs": [],
   "source": [
    "df_169_trunc = time_table(results_169, ('V', '1', '4'))\n",
    "df_169_trunc"
   ]
  }
 ],
 "metadata": {
  "kernelspec": {
   "display_name": "Python 3",
   "language": "python",
   "name": "python3"
  },
  "language_info": {
   "codemirror_mode": {
    "name": "ipython",
    "version": 3
   },
   "file_extension": ".py",
   "mimetype": "text/x-python",
   "name": "python",
   "nbconvert_exporter": "python",
   "pygments_lexer": "ipython3",
   "version": "3.6.7"
  }
 },
 "nbformat": 4,
 "nbformat_minor": 2
}
