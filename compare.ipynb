{
 "cells": [
  {
   "cell_type": "code",
   "execution_count": null,
   "metadata": {},
   "outputs": [],
   "source": [
    "import os\n",
    "pwd = os.path.abspath('')\n",
    "SKETCH_169 = os.path.join(pwd, '..', '..', '..', 'sketch3', 'sketch-1.6.9', 'sketch-frontend', 'runtime')\n",
    "SKETCH_175 = os.path.join(pwd, '..', '..', 'sketch-frontend')\n",
    "SKETCH_169_PATH = os.path.join(SKETCH_169, '..')\n",
    "SKETCH_175_PATH = os.path.join(SKETCH_175, 'target', 'sketch-1.7.5-noarch-launchers')\n",
    "os.environ['JAVA_HOME'] = JAVA_HOME = '/usr/lib/jvm/java-1.8.0-openjdk-amd64'\n",
    "os.environ['PATH'] = BASE_PATH = JAVA_HOME + '/bin' + os.pathsep + os.environ['PATH']"
   ]
  },
  {
   "cell_type": "code",
   "execution_count": null,
   "metadata": {},
   "outputs": [],
   "source": [
    "import sys; sys.path.insert(0,'./')\n",
    "from sketch import run_sketch\n",
    "import pandas as pd\n",
    "import numpy as np\n",
    "import re\n",
    "import datetime\n",
    "import json\n",
    "import math\n",
    "import multiprocessing"
   ]
  },
  {
   "cell_type": "code",
   "execution_count": null,
   "metadata": {},
   "outputs": [],
   "source": [
    "BENCHMARK = \"benchmark\"\n",
    "DATA = \"data\"\n",
    "\n",
    "g_opt = type('', (object,), {\n",
    "    \"config\": \"config.full.json\",\n",
    "    \"benchmarks\": os.listdir(BENCHMARK),\n",
    "    \"strategies\": [\"WILCOXON\"], # \"SINGLE\", \"NOT_SET\", \"WILCOXON\"\n",
    "    \"cores\": [],\n",
    "    \"degrees\": [],\n",
    "    \"repeat\": 6, # AC paper used 13 \n",
    "    \"timeout\": 30,\n",
    "    \"ntimes\": None,\n",
    "    \"register\": False,\n",
    "    \"vanilla\": False,\n",
    "})\n",
    "\n",
    "all_benchmark_short_names = [\n",
    "    (\"p_button\", \"button_demo\"),\n",
    "    (\"p_color\", \"colorchooser_demo\"),\n",
    "    (\"p_menu\", \"menu_demo\"),\n",
    "    (\"l_prepend\", \"list_prepend\"),\n",
    "    (\"l_min\", \"list_min\"),\n",
    "    (\"a_mom_1\", \"shoaib_1\"),\n",
    "    (\"a_mom_2\", \"shoaib_2\"),\n",
    "    (\"ar_s_4\", \"sygus_ar_s_4\"),\n",
    "    (\"ar_s_5\", \"sygus_ar_s_5\"),\n",
    "    (\"ar_s_6\", \"sygus_ar_s_6\"),\n",
    "    (\"ar_s_7\", \"sygus_ar_s_7\"),\n",
    "    (\"ar_sum\", \"sygus_ar_sum\"),\n",
    "    (\"hd_13_d5\", \"sygus_hd_13_d5\"),\n",
    "    (\"hd_14_d1\", \"sygus_hd_14_d1\"),\n",
    "    (\"hd_14_d5\", \"sygus_hd_14_d5\"),\n",
    "    (\"hd_15_d5\", \"sygus_hd_15_d5\"),\n",
    "    (\"s_cg\", \"cg\"),\n",
    "    (\"s_log2\", \"log2\"),\n",
    "    (\"s_logcnt\", \"logcount\"),\n",
    "    (\"s_rev\", \"reverse\"),\n",
    "    (\"deriv2\", \"deriv2\"),\n",
    "    (\"deriv3\", \"deriv3\"),\n",
    "    (\"deriv4\", \"deriv4\"),\n",
    "    (\"deriv5\", \"deriv5\"),\n",
    "    (\"q_noti\", \"qbs_noti\"),\n",
    "    (\"q_serv\", \"qbs_serv\")\n",
    "]"
   ]
  },
  {
   "cell_type": "code",
   "execution_count": null,
   "metadata": {},
   "outputs": [],
   "source": [
    "def real_time(e):\n",
    "    return (e['after'] - e['before']).total_seconds()\n",
    "\n",
    "def scrape(e, regex):\n",
    "    tre = re.compile(regex)\n",
    "    result = []\n",
    "    for line in e['stdout'].splitlines():\n",
    "        m = tre.match(line)\n",
    "        if m:\n",
    "            result.append(m.group(1))\n",
    "    return result\n",
    "\n",
    "def cpu_time(e):\n",
    "    ts = scrape(e, '^.*elapsed time.*-> (.*)')\n",
    "    if ts:\n",
    "        return sum(map(float, ts))\n",
    "    else:\n",
    "        ts = scrape(e, '^Total time = (.*)')\n",
    "        return sum(map(lambda t: int(t)/1000.0, ts) if ts else [])\n",
    "\n",
    "def successful(e):\n",
    "    return any(map(lambda b: b in [\"true\", \"True\"], scrape(e, '.*successful.*-> (.*)') or []))\n",
    "\n",
    "def exit_codes(e):\n",
    "    return set(map(int, scrape(e, \"^\\[SATBackend\\] Solver exit value: ([0-9]+)\")))"
   ]
  },
  {
   "cell_type": "code",
   "execution_count": null,
   "metadata": {},
   "outputs": [],
   "source": [
    "def mean_siqr(vs):\n",
    "    return [0.0, 0.0] if len(vs) == 0 else [np.mean(vs), np.subtract(*np.percentile(vs, [75, 25])) / 2]\n",
    "\n",
    "def make_table(rs, cols):\n",
    "    def realonly(c):\n",
    "        return c in [\"V\", \"1\"]\n",
    "    def subcols(c, b):\n",
    "        es = list(filter(lambda e: successful(e) or 0 in exit_codes(e), rs[c][b]))\n",
    "        if not es:\n",
    "            return [np.inf] * (2 if realonly(c) else 4)\n",
    "        return mean_siqr(list(map(real_time, es))) + ([] if realonly(c) else mean_siqr(list(map(cpu_time, es))))\n",
    "    def subhead(c):\n",
    "        return [\"real\", \"siqr$_r$\"] + ([] if realonly(c) else [\"cpu\", \"siqr$_c$\"])\n",
    "    index, benchmarks = zip(*filter(lambda b: b[1] in config.keys(), all_benchmark_short_names))\n",
    "    times = [[time for c in cols for time in subcols(c, b)] for b in benchmarks]\n",
    "    all_cols = [ix for c in cols for ix in\n",
    "                ([('', 'Sketch Time (s)',   t) for t in subhead(c)] if c == 'V' else\n",
    "                 [('# Cores (Time (s))', c, t) for t in subhead(c)])]\n",
    "    real_cols = pd.IndexSlice[:, [ix for ix in all_cols if ix[2] == 'real']]\n",
    "    mean_cols = pd.IndexSlice[:, [ix for ix in all_cols if ix[2] in ('real', 'cpu')]]\n",
    "    siqr_cols = pd.IndexSlice[:, [ix for ix in all_cols if ix[2].startswith('siqr')]]\n",
    "    columns = pd.MultiIndex.from_tuples(all_cols)\n",
    "    return pd.DataFrame(times, index=index, columns=columns).style.apply(\n",
    "        lambda s: ['font-weight: bold' if v else '' for v in s == s.min()],\n",
    "        axis=1, subset=mean_cols\n",
    "    ).where(\n",
    "        lambda _: True,\n",
    "        'border-left: 1px solid',\n",
    "        subset=real_cols\n",
    "    ).where(\n",
    "        lambda _: True,\n",
    "        'font-size: 66%',\n",
    "        subset=siqr_cols\n",
    "    ).format(\n",
    "        lambda t: '∞' if np.isinf(t) else '%.1f' % t\n",
    "    )"
   ]
  },
  {
   "cell_type": "code",
   "execution_count": null,
   "metadata": {},
   "outputs": [],
   "source": [
    "def run(args):\n",
    "    (path, main, iteration, seed) = args\n",
    "    return run_sketch(\n",
    "        path, main, iteration,\n",
    "        mem=32*1024*1024*1024,\n",
    "        seed=abs(seed+iteration),\n",
    "        timeout=g_opt.timeout,\n",
    "    )\n",
    "\n",
    "def p_run(path, main, repeat):\n",
    "    n_cpu = multiprocessing.cpu_count()\n",
    "    pool = multiprocessing.Pool(min(repeat, n_cpu))\n",
    "    now = int(datetime.datetime.now().strftime(\"%H%M%S\"))\n",
    "    seed = now * (10 ** int(math.log(repeat, 10)))\n",
    "    results = pool.map_async(run, map(lambda i: (path, main, i, seed), range(repeat)))\n",
    "    pool.close()\n",
    "    pool.join()\n",
    "    return results.get(1)"
   ]
  },
  {
   "cell_type": "code",
   "execution_count": null,
   "metadata": {},
   "outputs": [],
   "source": [
    "def fe_p_run(path, main, iteration, strategy, core, degree=None):\n",
    "    return run_sketch(\n",
    "        path, main, iteration,\n",
    "        par=True, ac=True, degree=degree,\n",
    "        timeout=g_opt.timeout,\n",
    "        ntimes=g_opt.ntimes, extra=[\n",
    "        \"--slv-strategy\", strategy,\n",
    "        \"--slv-p-cpus\", str(core),\n",
    "        \"--slv-p-trials\", str(32*32*3)]\n",
    "    )"
   ]
  },
  {
   "cell_type": "code",
   "execution_count": null,
   "metadata": {},
   "outputs": [],
   "source": [
    "def be_p_run(b, path, main, iteration, degree, repeat):\n",
    "    return run_sketch(\n",
    "        path, main, iteration,\n",
    "        mem=4*1024*1024*1024,\n",
    "        ac=True, degree=degree, extra=[\n",
    "        # custom CEGIS wrapper that runs backend in parallel\n",
    "        \"--fe-cegis-path\", os.path.join(pwd, \"psketch.py\"),\n",
    "        \"--be:conc-benchmark={}\".format(b),\n",
    "        \"--be:conc-repeat={}\".format(repeat),\n",
    "        \"--be:conc-timeout={}\".format(g_opt.timeout),\n",
    "        \"--be:conc-register={}\".format(g_opt.register)]\n",
    "    )"
   ]
  },
  {
   "cell_type": "code",
   "execution_count": null,
   "metadata": {},
   "outputs": [],
   "source": [
    "def run_benchmark(b, benchmark):\n",
    "    path       = os.path.join(BENCHMARK, b)\n",
    "    main       = os.path.join(path, benchmark[\"main\"])\n",
    "    strategies = g_opt.strategies or benchmark[\"strategies\"]\n",
    "    cores      = g_opt.cores or benchmark[\"cores\"]\n",
    "    degrees    = g_opt.degrees or benchmark[\"degrees\"]\n",
    "\n",
    "    if g_opt.vanilla: # run vanilla Sketch in parallel\n",
    "        return p_run(path, main, g_opt.repeat)\n",
    "\n",
    "    # use sketch-frontend's parallel running\n",
    "    def run_strat(iteration, strategy):\n",
    "        if strategy == \"SINGLE\": # parallel running via wrapper\n",
    "            return [be_p_run(b, path, main, iteration, degree,\n",
    "                    max(g_opt.cores or [benchmark.get(\"single_repeat\", 1)]))\n",
    "                    for degree in degrees]\n",
    "        elif strategy == \"NOT_SET\": # fixed degree\n",
    "            return [fe_p_run(path, main, iteration, strategy, core, degree)\n",
    "                    for core in cores\n",
    "                    for degree in degrees]\n",
    "        elif strategy == \"WILCOXON\": # adaptive concretization\n",
    "            return [fe_p_run(path, main, iteration, strategy, core)\n",
    "                    for core in cores]\n",
    "\n",
    "    return [r for i in range(g_opt.repeat)\n",
    "              for strategy in strategies\n",
    "              for r in run_strat(i, strategy)]"
   ]
  },
  {
   "cell_type": "code",
   "execution_count": null,
   "metadata": {},
   "outputs": [],
   "source": [
    "config = json.load(open(g_opt.config))"
   ]
  },
  {
   "cell_type": "code",
   "execution_count": null,
   "metadata": {},
   "outputs": [],
   "source": [
    "os.environ['SKETCH_HOME'] = SKETCH_175\n",
    "os.environ['PATH'] = SKETCH_175_PATH + os.pathsep + BASE_PATH\n",
    "results_175 = {}"
   ]
  },
  {
   "cell_type": "code",
   "execution_count": null,
   "metadata": {
    "scrolled": true
   },
   "outputs": [],
   "source": [
    "g_opt.vanilla = True\n",
    "g_opt.cores = [1]\n",
    "results_175[\"V\"] = {b: run_benchmark(b, config[b]) for b in config}"
   ]
  },
  {
   "cell_type": "code",
   "execution_count": null,
   "metadata": {},
   "outputs": [],
   "source": [
    "g_opt.vanilla = False\n",
    "g_opt.cores = [1]\n",
    "results_175[\"1\"] = {b: run_benchmark(b, config[b]) for b in config}"
   ]
  },
  {
   "cell_type": "code",
   "execution_count": null,
   "metadata": {},
   "outputs": [],
   "source": [
    "g_opt.vanilla = False\n",
    "g_opt.cores = [2]\n",
    "results_175[\"2\"] = {b: run_benchmark(b, config[b]) for b in config}"
   ]
  },
  {
   "cell_type": "code",
   "execution_count": null,
   "metadata": {},
   "outputs": [],
   "source": [
    "g_opt.vanilla = False\n",
    "g_opt.cores = [4]\n",
    "results_175[\"4\"] = {b: run_benchmark(b, config[b]) for b in config}"
   ]
  },
  {
   "cell_type": "code",
   "execution_count": null,
   "metadata": {},
   "outputs": [],
   "source": [
    "g_opt.vanilla = False\n",
    "g_opt.cores = [8]\n",
    "results_175[\"8\"] = {b: run_benchmark(b, config[b]) for b in config}"
   ]
  },
  {
   "cell_type": "code",
   "execution_count": null,
   "metadata": {},
   "outputs": [],
   "source": [
    "df_175_full = make_table(results_175, (\"V\", \"1\", \"2\", \"4\", \"8\"))\n",
    "df_175_full"
   ]
  },
  {
   "cell_type": "code",
   "execution_count": null,
   "metadata": {},
   "outputs": [],
   "source": [
    "df_175_trunc = make_table(results_175, (\"V\", \"1\", \"4\"))\n",
    "df_175_trunc"
   ]
  },
  {
   "cell_type": "code",
   "execution_count": null,
   "metadata": {},
   "outputs": [],
   "source": [
    "os.environ['SKETCH_HOME'] = SKETCH_169\n",
    "os.environ['PATH'] = SKETCH_169_PATH + os.pathsep + BASE_PATH\n",
    "results_169 = {}"
   ]
  },
  {
   "cell_type": "code",
   "execution_count": null,
   "metadata": {
    "scrolled": true
   },
   "outputs": [],
   "source": [
    "g_opt.vanilla = True\n",
    "g_opt.cores = [1]\n",
    "results_169[\"V\"] = {b: run_benchmark(b, config[b]) for b in config}"
   ]
  },
  {
   "cell_type": "code",
   "execution_count": null,
   "metadata": {
    "scrolled": true
   },
   "outputs": [],
   "source": [
    "g_opt.vanilla = False\n",
    "g_opt.cores = [1]\n",
    "results_169[\"1\"] = {b: run_benchmark(b, config[b]) for b in config}"
   ]
  },
  {
   "cell_type": "code",
   "execution_count": null,
   "metadata": {
    "scrolled": true
   },
   "outputs": [],
   "source": [
    "g_opt.vanilla = False\n",
    "g_opt.cores = [2]\n",
    "results_169[\"2\"] = {b: run_benchmark(b, config[b]) for b in config}"
   ]
  },
  {
   "cell_type": "code",
   "execution_count": null,
   "metadata": {
    "scrolled": true
   },
   "outputs": [],
   "source": [
    "g_opt.vanilla = False\n",
    "g_opt.cores = [4]\n",
    "results_169[\"4\"] = {b: run_benchmark(b, config[b]) for b in config}"
   ]
  },
  {
   "cell_type": "code",
   "execution_count": null,
   "metadata": {},
   "outputs": [],
   "source": [
    "g_opt.vanilla = False\n",
    "g_opt.cores = [8]\n",
    "results_169[\"8\"] = {b: run_benchmark(b, config[b]) for b in config}"
   ]
  },
  {
   "cell_type": "code",
   "execution_count": null,
   "metadata": {
    "scrolled": false
   },
   "outputs": [],
   "source": [
    "df_169_full  = make_table(results_169, (\"V\", \"1\", \"2\", \"4\", \"8\"))\n",
    "df_169_full"
   ]
  },
  {
   "cell_type": "code",
   "execution_count": null,
   "metadata": {},
   "outputs": [],
   "source": [
    "df_169_trunc = make_table(results_169, (\"V\", \"1\", \"4\"))\n",
    "df_169_trunc"
   ]
  }
 ],
 "metadata": {
  "kernelspec": {
   "display_name": "Python 3",
   "language": "python",
   "name": "python3"
  },
  "language_info": {
   "codemirror_mode": {
    "name": "ipython",
    "version": 3
   },
   "file_extension": ".py",
   "mimetype": "text/x-python",
   "name": "python",
   "nbconvert_exporter": "python",
   "pygments_lexer": "ipython3",
   "version": "3.6.7"
  }
 },
 "nbformat": 4,
 "nbformat_minor": 2
}
